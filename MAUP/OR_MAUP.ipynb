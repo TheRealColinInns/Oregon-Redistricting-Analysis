{
 "cells": [
  {
   "cell_type": "code",
   "execution_count": 58,
   "id": "a1338e0c",
   "metadata": {},
   "outputs": [],
   "source": [
    "import warnings\n",
    "warnings.simplefilter(action='ignore', category=FutureWarning)\n",
    "\n",
    "from gerrychain import Graph, Partition\n",
    "\n",
    "import pandas as pd\n",
    "import geopandas as gpd\n",
    "import maup\n",
    "import time\n",
    "\n",
    "maup.progress.enabled = True"
   ]
  },
  {
   "cell_type": "code",
   "execution_count": 34,
   "id": "12b66d77",
   "metadata": {},
   "outputs": [],
   "source": [
    "def load_data(file_name):\n",
    "    start_time = time.time()\n",
    "    df = gpd.read_file(file_name)\n",
    "    end_time = time.time()\n",
    "    print(f'The time to import {file_name} is: {(end_time - start_time) / 60} mins')\n",
    "\n",
    "    return df"
   ]
  },
  {
   "cell_type": "code",
   "execution_count": 3,
   "id": "9a37443d",
   "metadata": {},
   "outputs": [
    {
     "name": "stdout",
     "output_type": "stream",
     "text": [
      "The time to import ./or_pl2020_b/or_pl2020_b.shp is: 93.33439429998398 mins\n"
     ]
    }
   ],
   "source": [
    "population_df = load_data('./or_pl2020_b/or_pl2020_b.shp')"
   ]
  },
  {
   "cell_type": "code",
   "execution_count": 4,
   "id": "0634da29",
   "metadata": {},
   "outputs": [
    {
     "name": "stdout",
     "output_type": "stream",
     "text": [
      "The time to import ./or_vest_20/or_vest_20.shp is: 0.041604546705881755 mins\n"
     ]
    }
   ],
   "source": [
    "election_df = load_data('./or_vest_20/or_vest_20.shp')"
   ]
  },
  {
   "cell_type": "code",
   "execution_count": 5,
   "id": "40d184ff",
   "metadata": {},
   "outputs": [
    {
     "name": "stdout",
     "output_type": "stream",
     "text": [
      "The time to import ./or_sldu_2021/Senate_LC_Draft_2_-_Revised_.shp is: 0.0060303012530008955 mins\n"
     ]
    }
   ],
   "source": [
    "sen_district_df = load_data('./or_sldu_2021/Senate_LC_Draft_2_-_Revised_.shp')"
   ]
  },
  {
   "cell_type": "code",
   "execution_count": 9,
   "id": "a3c28b70",
   "metadata": {},
   "outputs": [
    {
     "data": {
      "text/plain": [
       "(30, 15)"
      ]
     },
     "execution_count": 9,
     "metadata": {},
     "output_type": "execute_result"
    }
   ],
   "source": [
    "sen_district_df.shape"
   ]
  },
  {
   "cell_type": "code",
   "execution_count": 10,
   "id": "b58acf86",
   "metadata": {},
   "outputs": [
    {
     "name": "stdout",
     "output_type": "stream",
     "text": [
      "Index(['STATEFP20', 'COUNTYFP20', 'TRACTCE20', 'BLOCKCE20', 'GEOID20',\n",
      "       'NAME20', 'MTFCC20', 'FUNCSTAT20', 'ALAND20', 'AWATER20',\n",
      "       ...\n",
      "       'P0050002', 'P0050003', 'P0050004', 'P0050005', 'P0050006', 'P0050007',\n",
      "       'P0050008', 'P0050009', 'P0050010', 'geometry'],\n",
      "      dtype='object', length=383)\n",
      "Index(['STATE', 'COUNTY', 'PRECINCT', 'NAME', 'G20PREDBID', 'G20PRERTRU',\n",
      "       'G20PRELJOR', 'G20PREGHAW', 'G20PREPHUN', 'G20PREOWRI', 'G20USSDMER',\n",
      "       'G20USSRPER', 'G20USSLDYE', 'G20USSGTAH', 'G20USSOWRI', 'G20ATGDROS',\n",
      "       'G20ATGRCRO', 'G20ATGLHED', 'G20ATGOWRI', 'G20SOSDFAG', 'G20SOSRTHA',\n",
      "       'G20SOSLMAR', 'G20SOSGPAR', 'G20SOSOWRI', 'G20TREDREA', 'G20TRERGUD',\n",
      "       'G20TREIHEN', 'G20TRECMAR', 'G20TREOWRI', 'geometry'],\n",
      "      dtype='object')\n",
      "Index(['LONGNAME', 'SHORTNAME', 'DISTRICT', 'COLOR', 'TOTAL', 'TARGET_DEV',\n",
      "       'TOTALHISP', 'WHITENH', 'BLACKNH', 'AIANNH', 'ASIANNH', 'HPINH',\n",
      "       'OTHERNH', 'MLTMNNH', 'geometry'],\n",
      "      dtype='object')\n"
     ]
    }
   ],
   "source": [
    "print(population_df.columns)\n",
    "print(election_df.columns)\n",
    "print(sen_district_df.columns)"
   ]
  },
  {
   "cell_type": "code",
   "execution_count": 12,
   "id": "d71c3564",
   "metadata": {},
   "outputs": [
    {
     "name": "stdout",
     "output_type": "stream",
     "text": [
      "       LONGNAME SHORTNAME  DISTRICT       COLOR   TOTAL  TARGET_DEV  \\\n",
      "0    District 1        D1         1  2127829120  142212         970   \n",
      "1    District 2        D2         2  1015926656  141786         544   \n",
      "2    District 3        D3         3   101601152  142502        1260   \n",
      "3    District 4        D4         4  1627761792  142435        1193   \n",
      "4    District 5        D5         5  1675345024  140391        -851   \n",
      "5    District 6        D6         6  1973951616  141318          76   \n",
      "6    District 7        D7         7  -847814016  141405         163   \n",
      "7    District 8        D8         8  -630203264  141755         513   \n",
      "8    District 9        D9         9  -212241062  142091         849   \n",
      "9   District 10       D10        10  -713176448  142303        1061   \n",
      "10  District 11       D11        11  1697406336  142263        1021   \n",
      "11  District 12       D12        12  -973899392  141526         284   \n",
      "12  District 13       D13        13  -201293376  141227         -15   \n",
      "13  District 14       D14        14  -566558592  140600        -642   \n",
      "14  District 15       D15        15  -177431001  140598        -644   \n",
      "15  District 16       D16        16  1026961792  142484        1242   \n",
      "16  District 17       D17        17  -885935488  139990       -1252   \n",
      "17  District 18       D18        18   -41182848  140275        -967   \n",
      "18  District 19       D19        19  -347240064  140700        -542   \n",
      "19  District 20       D20        20  -813640832  141874         632   \n",
      "20  District 21       D21        21   104791680  140636        -606   \n",
      "21  District 22       D22        22  -139608192  142070         828   \n",
      "22  District 23       D23        23  -210288908  139900       -1342   \n",
      "23  District 24       D24        24  -300436352  139993       -1249   \n",
      "24  District 25       D25        25  1126304128  140856        -386   \n",
      "25  District 26       D26        26  -291655040  141393         151   \n",
      "26  District 27       D27        27  1001891200  140326        -916   \n",
      "27  District 28       D28        28  -214703526  140419        -823   \n",
      "28  District 29       D29        29  1997797504  140257        -985   \n",
      "29  District 30       D30        30  -189635264  141671         429   \n",
      "\n",
      "    TOTALHISP  WHITENH  BLACKNH  AIANNH  ASIANNH  HPINH  OTHERNH  MLTMNNH  \\\n",
      "0        8701   119379      946    7136     2218    399     2851      582   \n",
      "1       11357   117097     1280    5707     2537    498     2661      649   \n",
      "2       20776   106432     2190    4351     3936    868     3142      807   \n",
      "3       16000   107187     3331    4627     6958    680     2679      973   \n",
      "4       10746   114408     1126    7399     2753    520     2726      713   \n",
      "5        9884   118183     1222    5740     2351    472     2833      633   \n",
      "6       15231   108308     3093    4752     5677    726     2546     1072   \n",
      "7       15894   106656     2150    3868     9170    696     2637      684   \n",
      "8       25488   104262     1356    4287     3082    732     2374      510   \n",
      "9       26013    98530     2827    4335     5844   1677     2185      892   \n",
      "10      56789    70725     2679    3643     3677   2385     1710      655   \n",
      "11      20410   106854     1660    5888     3159    442     2515      598   \n",
      "12      17640    99953     3479    2552    13194   1202     2207     1000   \n",
      "13      17388    99612     4289    2259    12487    715     2821     1029   \n",
      "14      37014    78156     3770    2664    14928    816     2112     1138   \n",
      "15      11671   116968     1357    5052     3405    600     2784      647   \n",
      "16      11860    86548     4906    2253    30220    572     2430     1201   \n",
      "17      29665    77517     5484    2348    20687   1068     2138     1368   \n",
      "18      12061   107418     2967    2346    11665    822     2546      875   \n",
      "19      15563   102308     3435    3483    12958    789     2345      993   \n",
      "20      11026   109358     3511    2843     9233    541     3099     1025   \n",
      "21      18497    91158    15636    2912     8362   1089     2769     1647   \n",
      "22      15361    90227     8793    3112    17359   1003     2616     1429   \n",
      "23      20795    79221    12013    3052    19874   1800     1875     1363   \n",
      "24      30156    84054     8411    3607     9797   1671     1917     1243   \n",
      "25      21473   107951     1217    3862     3346    578     2397      569   \n",
      "26      13082   115470     1241    3139     3653    452     2717      572   \n",
      "27      16343   109258     1379    7350     2239    396     2857      597   \n",
      "28      30382    94349     1353    9153     1565    821     1961      673   \n",
      "29      21491   108611     1301    5400     1700    273     2382      513   \n",
      "\n",
      "                                             geometry  \n",
      "0   POLYGON ((-124.54414 42.68382, -124.55311 42.6...  \n",
      "1   POLYGON ((-124.00395 42.45155, -124.00388 42.4...  \n",
      "2   POLYGON ((-122.94345 42.32552, -122.94404 42.3...  \n",
      "3   POLYGON ((-123.07529 44.00336, -123.07539 44.0...  \n",
      "4   POLYGON ((-124.14653 44.77862, -124.14611 44.7...  \n",
      "5   POLYGON ((-123.01884 44.69940, -123.01876 44.7...  \n",
      "6   POLYGON ((-123.20051 44.14962, -123.20049 44.1...  \n",
      "7   POLYGON ((-123.33450 44.55721, -123.33463 44.5...  \n",
      "8   POLYGON ((-122.82894 44.77073, -122.82916 44.7...  \n",
      "9   POLYGON ((-123.23806 44.86046, -123.23806 44.8...  \n",
      "10  POLYGON ((-123.04131 44.94849, -123.04113 44.9...  \n",
      "11  POLYGON ((-122.94520 45.28619, -122.94511 45.2...  \n",
      "12  POLYGON ((-122.74382 45.30031, -122.74397 45.2...  \n",
      "13  POLYGON ((-122.80324 45.45300, -122.80323 45.4...  \n",
      "14  POLYGON ((-122.87010 45.53814, -122.87011 45.5...  \n",
      "15  POLYGON ((-123.36376 46.14634, -123.36365 46.1...  \n",
      "16  POLYGON ((-122.83812 45.53072, -122.83853 45.5...  \n",
      "17  POLYGON ((-122.82086 45.44849, -122.82087 45.4...  \n",
      "18  POLYGON ((-122.79890 45.39421, -122.79886 45.3...  \n",
      "19  POLYGON ((-122.59897 45.44796, -122.59898 45.4...  \n",
      "20  POLYGON ((-122.61599 45.46943, -122.61598 45.4...  \n",
      "21  POLYGON ((-122.78836 45.61488, -122.78950 45.6...  \n",
      "22  POLYGON ((-122.57334 45.56269, -122.57275 45.5...  \n",
      "23  POLYGON ((-122.41447 45.46158, -122.41418 45.4...  \n",
      "24  POLYGON ((-122.48469 45.49966, -122.48468 45.5...  \n",
      "25  POLYGON ((-121.63813 45.70478, -121.63134 45.7...  \n",
      "26  POLYGON ((-121.36366 44.02215, -121.36365 44.0...  \n",
      "27  POLYGON ((-121.31650 41.99706, -121.31762 41.9...  \n",
      "28  POLYGON ((-120.65352 45.73719, -120.63614 45.7...  \n",
      "29  POLYGON ((-120.91812 43.95937, -120.91914 43.9...  \n"
     ]
    }
   ],
   "source": [
    "print(sen_district_df)"
   ]
  },
  {
   "cell_type": "code",
   "execution_count": 13,
   "id": "0ae95604",
   "metadata": {},
   "outputs": [],
   "source": [
    "district_col_name = \"DISTRICT\""
   ]
  },
  {
   "cell_type": "code",
   "execution_count": 20,
   "id": "84747bc7",
   "metadata": {},
   "outputs": [
    {
     "name": "stderr",
     "output_type": "stream",
     "text": [
      "100%|█████████████████████████████████████████████████████████████████████████████████████████████████████████████████████████████████████| 1331/1331 [00:05<00:00, 226.56it/s]\n",
      "100%|██████████████████████████████████████████████████████████████████████████████████████████████████████████████████████████████████████| 1331/1331 [00:18<00:00, 71.86it/s]\n"
     ]
    }
   ],
   "source": [
    "blocks_to_precincts_assignment = maup.assign(population_df.geometry.to_crs(2913), election_df.geometry)"
   ]
  },
  {
   "cell_type": "markdown",
   "id": "ee4b742a",
   "metadata": {},
   "source": [
    "- Total: P0020001\n",
    "- Hispanic or Latino P0020002\n",
    "- White alone P0020005\n",
    "- Black or African American alone P0020006\n",
    "- American Indian and Alaska Native alone P0020007\n",
    "- Asian alone P0020008\n",
    "- Native Hawaiian and Other Pacific Islander alone P0020009\n",
    "- Some Other Race alone P0020010\n",
    "- Population of two or more races: P0020011"
   ]
  },
  {
   "cell_type": "code",
   "execution_count": 21,
   "id": "196e7ee7",
   "metadata": {},
   "outputs": [],
   "source": [
    "pop_column_names = ['P0020001', 'P0020002', 'P0020005', 'P0020006', 'P0020007',\n",
    "                    'P0020008', 'P0020009', 'P0020010', 'P0020011']"
   ]
  },
  {
   "cell_type": "code",
   "execution_count": 104,
   "id": "3b856e57",
   "metadata": {},
   "outputs": [
    {
     "name": "stdout",
     "output_type": "stream",
     "text": [
      "P0020001\n",
      "P0020002\n",
      "P0020005\n",
      "P0020006\n",
      "P0020007\n",
      "P0020008\n",
      "P0020009\n",
      "P0020010\n",
      "P0020011\n"
     ]
    }
   ],
   "source": [
    "for col in pop_column_names:\n",
    "    if col.startswith('P00'):\n",
    "        print(col)"
   ]
  },
  {
   "cell_type": "code",
   "execution_count": 22,
   "id": "5cfa031a",
   "metadata": {},
   "outputs": [],
   "source": [
    "for name in pop_column_names:\n",
    "    election_df[name] = population_df[name].groupby(blocks_to_precincts_assignment).sum()"
   ]
  },
  {
   "cell_type": "code",
   "execution_count": 100,
   "id": "8bf2e8e7",
   "metadata": {},
   "outputs": [
    {
     "name": "stdout",
     "output_type": "stream",
     "text": [
      "4237256\n",
      "4237224.0\n",
      "4237256\n"
     ]
    }
   ],
   "source": [
    "print(population_df['P0020001'].sum())\n",
    "print(election_df['P0020001'].sum())\n",
    "print(sen_district_df['TOTAL'].sum())"
   ]
  },
  {
   "cell_type": "code",
   "execution_count": 103,
   "id": "2a2751eb",
   "metadata": {},
   "outputs": [
    {
     "name": "stderr",
     "output_type": "stream",
     "text": [
      "100%|█████████████████████████████████████████████████████████████████████████████████████████████████████████████████████████████████████| 1331/1331 [00:04<00:00, 267.12it/s]\n"
     ]
    },
    {
     "name": "stdout",
     "output_type": "stream",
     "text": [
      "There are 1137 overlaps.\n",
      "There are 6923 holes.\n",
      "There are some invalid geometries.\n",
      "False\n"
     ]
    }
   ],
   "source": [
    "print(maup.doctor(election_df))"
   ]
  },
  {
   "cell_type": "code",
   "execution_count": 84,
   "id": "0eb473e8",
   "metadata": {},
   "outputs": [
    {
     "name": "stderr",
     "output_type": "stream",
     "text": [
      "Gaps to simplify:   3%|███▍                                                                                                              | 304/10095 [02:19<1:14:53,  2.18it/s]\n"
     ]
    },
    {
     "name": "stdout",
     "output_type": "stream",
     "text": [
      "Snapping all geometries to a grid with precision 10^( -2 ) to avoid GEOS errors.\n",
      "Identifying overlaps...\n"
     ]
    },
    {
     "name": "stderr",
     "output_type": "stream",
     "text": [
      "100%|███████████████████████████████████████████████████████████████████████████████████████████████████████████████████████████████████| 22321/22321 [00:31<00:00, 709.92it/s]\n"
     ]
    },
    {
     "name": "stdout",
     "output_type": "stream",
     "text": [
      "Resolving overlaps...\n",
      "Assigning order 2 pieces...\n",
      "Assigning order 3 pieces...\n",
      "1 gaps will remain unfilled, because they either are not simply connected or exceed the area threshold.\n",
      "Filling gaps...\n"
     ]
    },
    {
     "name": "stderr",
     "output_type": "stream",
     "text": [
      "Gaps to simplify: 10106it [47:05,  3.58it/s]                                                                                                                                   \n",
      "Gaps to fill: 100%|██████████████████████████████████████████████████████████████████████████████████████████████████████████████████████████| 365/365 [01:33<00:00,  3.91it/s]"
     ]
    },
    {
     "name": "stdout",
     "output_type": "stream",
     "text": [
      "WARNING: A component of the geometry at index 368 may have been disconnected!\n"
     ]
    },
    {
     "name": "stderr",
     "output_type": "stream",
     "text": [
      "\n"
     ]
    }
   ],
   "source": [
    "repaired_election_df = maup.smart_repair(election_df, snap_precision=8)"
   ]
  },
  {
   "cell_type": "code",
   "execution_count": 85,
   "id": "580e2f18",
   "metadata": {},
   "outputs": [
    {
     "name": "stderr",
     "output_type": "stream",
     "text": [
      "100%|█████████████████████████████████████████████████████████████████████████████████████████████████████████████████████████████████████| 1331/1331 [00:04<00:00, 292.07it/s]\n"
     ]
    },
    {
     "name": "stdout",
     "output_type": "stream",
     "text": [
      "There are 1 holes.\n",
      "False\n"
     ]
    }
   ],
   "source": [
    "print(maup.doctor(repaired_election_df))"
   ]
  },
  {
   "cell_type": "code",
   "execution_count": 86,
   "id": "cf0dd85b",
   "metadata": {},
   "outputs": [
    {
     "name": "stderr",
     "output_type": "stream",
     "text": [
      "100%|█████████████████████████████████████████████████████████████████████████████████████████████████████████████████████████████████████████| 30/30 [00:00<00:00, 195.96it/s]\n",
      "100%|██████████████████████████████████████████████████████████████████████████████████████████████████████████████████████████████████████████| 30/30 [00:01<00:00, 21.60it/s]\n"
     ]
    }
   ],
   "source": [
    "precincts_to_districts_assignment = maup.assign(repaired_election_df.geometry, sen_district_df.geometry.to_crs(2913))"
   ]
  },
  {
   "cell_type": "code",
   "execution_count": 87,
   "id": "a9c63000",
   "metadata": {},
   "outputs": [],
   "source": [
    "repaired_election_df['SEN'] = precincts_to_districts_assignment"
   ]
  },
  {
   "cell_type": "code",
   "execution_count": 88,
   "id": "770cd050",
   "metadata": {},
   "outputs": [
    {
     "name": "stdout",
     "output_type": "stream",
     "text": [
      "{0, 1, 2, 3, 4, 5, 6, 7, 8, 9, 10, 11, 12, 13, 14, 15, 16, 17, 18, 19, 20, 21, 22, 23, 24, 25, 26, 27, 28, 29}\n",
      "{1, 2, 3, 4, 5, 6, 7, 8, 9, 10, 11, 12, 13, 14, 15, 16, 17, 18, 19, 20, 21, 22, 23, 24, 25, 26, 27, 28, 29, 30}\n",
      "{1, 2, 3, 4, 5, 6, 7, 8, 9, 10, 11, 12, 13, 14, 15, 16, 17, 18, 19, 20, 21, 22, 23, 24, 25, 26, 27, 28, 29, 30}\n"
     ]
    }
   ],
   "source": [
    "print(set(repaired_election_df['SEN']))\n",
    "for precinct_index in range(len(repaired_election_df)):\n",
    "    repaired_election_df.at[precinct_index, 'SEN'] = sen_district_df.at[repaired_election_df.at[precinct_index, 'SEN'], district_col_name]\n",
    "print(set(sen_district_df[district_col_name]))\n",
    "print(set(repaired_election_df['SEN']))"
   ]
  },
  {
   "cell_type": "code",
   "execution_count": 94,
   "id": "a4aaf14e",
   "metadata": {},
   "outputs": [],
   "source": [
    "rename_dict = {'P0020001': 'TOTPOP', 'P0020002': 'HISP', 'P0020005': 'NH_WHITE', 'P0020006': 'NH_BLACK', 'P0020007': 'NH_AMIN',\n",
    "                    'P0020008': 'NH_ASIAN', 'P0020009': 'NH_NHPI', 'P0020010': 'NH_OTHER', 'P0020011': 'NH_2MORE',\n",
    "                    'P0040001': 'VAP', 'P0040002': 'HVAP', 'P0040005': 'WVAP', 'P0040006': 'BVAP', 'P0040007': 'AMINVAP',\n",
    "                                        'P0040008': 'ASIANVAP', 'P0040009': 'NHPIVAP', 'P0040010': 'OTHERVAP', 'P0040011': '2MOREVAP',\n",
    "                                        'G20PREDBID': 'G20PRED', 'G20PRERTRU': 'G20PRER', 'G20USSDMER': 'G20USSD', \n",
    "                                        'G20USSRPER': 'G20USSR'}\n",
    "repaired_election_df.rename(columns=rename_dict, inplace = True)"
   ]
  },
  {
   "cell_type": "code",
   "execution_count": 95,
   "id": "9e8ddf16",
   "metadata": {},
   "outputs": [],
   "source": [
    "final_election_df = repaired_election_df"
   ]
  },
  {
   "cell_type": "code",
   "execution_count": 96,
   "id": "f21c0b3a",
   "metadata": {},
   "outputs": [
    {
     "data": {
      "text/html": [
       "<div>\n",
       "<style scoped>\n",
       "    .dataframe tbody tr th:only-of-type {\n",
       "        vertical-align: middle;\n",
       "    }\n",
       "\n",
       "    .dataframe tbody tr th {\n",
       "        vertical-align: top;\n",
       "    }\n",
       "\n",
       "    .dataframe thead th {\n",
       "        text-align: right;\n",
       "    }\n",
       "</style>\n",
       "<table border=\"1\" class=\"dataframe\">\n",
       "  <thead>\n",
       "    <tr style=\"text-align: right;\">\n",
       "      <th></th>\n",
       "      <th>STATE</th>\n",
       "      <th>COUNTY</th>\n",
       "      <th>PRECINCT</th>\n",
       "      <th>NAME</th>\n",
       "      <th>G20PRED</th>\n",
       "      <th>G20PRER</th>\n",
       "      <th>G20PRELJOR</th>\n",
       "      <th>G20PREGHAW</th>\n",
       "      <th>G20PREPHUN</th>\n",
       "      <th>G20PREOWRI</th>\n",
       "      <th>...</th>\n",
       "      <th>TOTPOP</th>\n",
       "      <th>HISP</th>\n",
       "      <th>NH_WHITE</th>\n",
       "      <th>NH_BLACK</th>\n",
       "      <th>NH_AMIN</th>\n",
       "      <th>NH_ASIAN</th>\n",
       "      <th>NH_NHPI</th>\n",
       "      <th>NH_OTHER</th>\n",
       "      <th>NH_2MORE</th>\n",
       "      <th>SEN</th>\n",
       "    </tr>\n",
       "  </thead>\n",
       "  <tbody>\n",
       "    <tr>\n",
       "      <th>0</th>\n",
       "      <td>41</td>\n",
       "      <td>Multnomah</td>\n",
       "      <td>4506</td>\n",
       "      <td>4506</td>\n",
       "      <td>2656</td>\n",
       "      <td>717</td>\n",
       "      <td>30</td>\n",
       "      <td>32</td>\n",
       "      <td>6</td>\n",
       "      <td>24</td>\n",
       "      <td>...</td>\n",
       "      <td>5727.0</td>\n",
       "      <td>598.0</td>\n",
       "      <td>3337.0</td>\n",
       "      <td>526.0</td>\n",
       "      <td>68.0</td>\n",
       "      <td>658.0</td>\n",
       "      <td>58.0</td>\n",
       "      <td>36.0</td>\n",
       "      <td>446.0</td>\n",
       "      <td>23</td>\n",
       "    </tr>\n",
       "    <tr>\n",
       "      <th>1</th>\n",
       "      <td>41</td>\n",
       "      <td>Multnomah</td>\n",
       "      <td>4409</td>\n",
       "      <td>4409</td>\n",
       "      <td>1613</td>\n",
       "      <td>473</td>\n",
       "      <td>24</td>\n",
       "      <td>22</td>\n",
       "      <td>11</td>\n",
       "      <td>15</td>\n",
       "      <td>...</td>\n",
       "      <td>5103.0</td>\n",
       "      <td>1322.0</td>\n",
       "      <td>2665.0</td>\n",
       "      <td>453.0</td>\n",
       "      <td>40.0</td>\n",
       "      <td>281.0</td>\n",
       "      <td>51.0</td>\n",
       "      <td>15.0</td>\n",
       "      <td>276.0</td>\n",
       "      <td>22</td>\n",
       "    </tr>\n",
       "    <tr>\n",
       "      <th>2</th>\n",
       "      <td>41</td>\n",
       "      <td>Multnomah</td>\n",
       "      <td>4404</td>\n",
       "      <td>4404</td>\n",
       "      <td>8264</td>\n",
       "      <td>907</td>\n",
       "      <td>106</td>\n",
       "      <td>68</td>\n",
       "      <td>32</td>\n",
       "      <td>80</td>\n",
       "      <td>...</td>\n",
       "      <td>19470.0</td>\n",
       "      <td>3298.0</td>\n",
       "      <td>11221.0</td>\n",
       "      <td>1884.0</td>\n",
       "      <td>148.0</td>\n",
       "      <td>1086.0</td>\n",
       "      <td>234.0</td>\n",
       "      <td>88.0</td>\n",
       "      <td>1511.0</td>\n",
       "      <td>22</td>\n",
       "    </tr>\n",
       "    <tr>\n",
       "      <th>3</th>\n",
       "      <td>41</td>\n",
       "      <td>Multnomah</td>\n",
       "      <td>4502</td>\n",
       "      <td>4502</td>\n",
       "      <td>3948</td>\n",
       "      <td>482</td>\n",
       "      <td>49</td>\n",
       "      <td>32</td>\n",
       "      <td>9</td>\n",
       "      <td>27</td>\n",
       "      <td>...</td>\n",
       "      <td>6599.0</td>\n",
       "      <td>628.0</td>\n",
       "      <td>4775.0</td>\n",
       "      <td>230.0</td>\n",
       "      <td>33.0</td>\n",
       "      <td>430.0</td>\n",
       "      <td>23.0</td>\n",
       "      <td>53.0</td>\n",
       "      <td>427.0</td>\n",
       "      <td>23</td>\n",
       "    </tr>\n",
       "    <tr>\n",
       "      <th>4</th>\n",
       "      <td>41</td>\n",
       "      <td>Multnomah</td>\n",
       "      <td>4501</td>\n",
       "      <td>4501</td>\n",
       "      <td>9190</td>\n",
       "      <td>785</td>\n",
       "      <td>78</td>\n",
       "      <td>36</td>\n",
       "      <td>18</td>\n",
       "      <td>57</td>\n",
       "      <td>...</td>\n",
       "      <td>13895.0</td>\n",
       "      <td>738.0</td>\n",
       "      <td>11262.0</td>\n",
       "      <td>257.0</td>\n",
       "      <td>42.0</td>\n",
       "      <td>521.0</td>\n",
       "      <td>14.0</td>\n",
       "      <td>71.0</td>\n",
       "      <td>990.0</td>\n",
       "      <td>23</td>\n",
       "    </tr>\n",
       "    <tr>\n",
       "      <th>...</th>\n",
       "      <td>...</td>\n",
       "      <td>...</td>\n",
       "      <td>...</td>\n",
       "      <td>...</td>\n",
       "      <td>...</td>\n",
       "      <td>...</td>\n",
       "      <td>...</td>\n",
       "      <td>...</td>\n",
       "      <td>...</td>\n",
       "      <td>...</td>\n",
       "      <td>...</td>\n",
       "      <td>...</td>\n",
       "      <td>...</td>\n",
       "      <td>...</td>\n",
       "      <td>...</td>\n",
       "      <td>...</td>\n",
       "      <td>...</td>\n",
       "      <td>...</td>\n",
       "      <td>...</td>\n",
       "      <td>...</td>\n",
       "      <td>...</td>\n",
       "    </tr>\n",
       "    <tr>\n",
       "      <th>1326</th>\n",
       "      <td>41</td>\n",
       "      <td>Clackamas</td>\n",
       "      <td>201</td>\n",
       "      <td>201</td>\n",
       "      <td>2656</td>\n",
       "      <td>1465</td>\n",
       "      <td>84</td>\n",
       "      <td>13</td>\n",
       "      <td>2</td>\n",
       "      <td>35</td>\n",
       "      <td>...</td>\n",
       "      <td>7232.0</td>\n",
       "      <td>767.0</td>\n",
       "      <td>5362.0</td>\n",
       "      <td>89.0</td>\n",
       "      <td>24.0</td>\n",
       "      <td>494.0</td>\n",
       "      <td>12.0</td>\n",
       "      <td>34.0</td>\n",
       "      <td>450.0</td>\n",
       "      <td>13</td>\n",
       "    </tr>\n",
       "    <tr>\n",
       "      <th>1327</th>\n",
       "      <td>41</td>\n",
       "      <td>Washington</td>\n",
       "      <td>435</td>\n",
       "      <td>435</td>\n",
       "      <td>2335</td>\n",
       "      <td>1608</td>\n",
       "      <td>82</td>\n",
       "      <td>18</td>\n",
       "      <td>8</td>\n",
       "      <td>49</td>\n",
       "      <td>...</td>\n",
       "      <td>6890.0</td>\n",
       "      <td>576.0</td>\n",
       "      <td>5584.0</td>\n",
       "      <td>28.0</td>\n",
       "      <td>24.0</td>\n",
       "      <td>231.0</td>\n",
       "      <td>25.0</td>\n",
       "      <td>33.0</td>\n",
       "      <td>389.0</td>\n",
       "      <td>13</td>\n",
       "    </tr>\n",
       "    <tr>\n",
       "      <th>1328</th>\n",
       "      <td>41</td>\n",
       "      <td>Washington</td>\n",
       "      <td>425</td>\n",
       "      <td>425</td>\n",
       "      <td>452</td>\n",
       "      <td>550</td>\n",
       "      <td>15</td>\n",
       "      <td>4</td>\n",
       "      <td>1</td>\n",
       "      <td>9</td>\n",
       "      <td>...</td>\n",
       "      <td>1499.0</td>\n",
       "      <td>108.0</td>\n",
       "      <td>1236.0</td>\n",
       "      <td>2.0</td>\n",
       "      <td>10.0</td>\n",
       "      <td>35.0</td>\n",
       "      <td>3.0</td>\n",
       "      <td>9.0</td>\n",
       "      <td>96.0</td>\n",
       "      <td>13</td>\n",
       "    </tr>\n",
       "    <tr>\n",
       "      <th>1329</th>\n",
       "      <td>41</td>\n",
       "      <td>Yamhill</td>\n",
       "      <td>13</td>\n",
       "      <td>Yamhill City &amp; Rural</td>\n",
       "      <td>1091</td>\n",
       "      <td>2040</td>\n",
       "      <td>58</td>\n",
       "      <td>17</td>\n",
       "      <td>5</td>\n",
       "      <td>18</td>\n",
       "      <td>...</td>\n",
       "      <td>4568.0</td>\n",
       "      <td>322.0</td>\n",
       "      <td>3911.0</td>\n",
       "      <td>10.0</td>\n",
       "      <td>20.0</td>\n",
       "      <td>31.0</td>\n",
       "      <td>2.0</td>\n",
       "      <td>20.0</td>\n",
       "      <td>252.0</td>\n",
       "      <td>12</td>\n",
       "    </tr>\n",
       "    <tr>\n",
       "      <th>1330</th>\n",
       "      <td>41</td>\n",
       "      <td>Yamhill</td>\n",
       "      <td>11</td>\n",
       "      <td>Gaston Area</td>\n",
       "      <td>0</td>\n",
       "      <td>1</td>\n",
       "      <td>0</td>\n",
       "      <td>0</td>\n",
       "      <td>0</td>\n",
       "      <td>0</td>\n",
       "      <td>...</td>\n",
       "      <td>6.0</td>\n",
       "      <td>1.0</td>\n",
       "      <td>3.0</td>\n",
       "      <td>0.0</td>\n",
       "      <td>0.0</td>\n",
       "      <td>0.0</td>\n",
       "      <td>0.0</td>\n",
       "      <td>0.0</td>\n",
       "      <td>2.0</td>\n",
       "      <td>16</td>\n",
       "    </tr>\n",
       "  </tbody>\n",
       "</table>\n",
       "<p>1331 rows × 40 columns</p>\n",
       "</div>"
      ],
      "text/plain": [
       "      STATE      COUNTY PRECINCT                  NAME  G20PRED  G20PRER  \\\n",
       "0        41   Multnomah     4506                  4506     2656      717   \n",
       "1        41   Multnomah     4409                  4409     1613      473   \n",
       "2        41   Multnomah     4404                  4404     8264      907   \n",
       "3        41   Multnomah     4502                  4502     3948      482   \n",
       "4        41   Multnomah     4501                  4501     9190      785   \n",
       "...     ...         ...      ...                   ...      ...      ...   \n",
       "1326     41   Clackamas      201                   201     2656     1465   \n",
       "1327     41  Washington      435                   435     2335     1608   \n",
       "1328     41  Washington      425                   425      452      550   \n",
       "1329     41     Yamhill       13  Yamhill City & Rural     1091     2040   \n",
       "1330     41     Yamhill       11           Gaston Area        0        1   \n",
       "\n",
       "      G20PRELJOR  G20PREGHAW  G20PREPHUN  G20PREOWRI  ...   TOTPOP    HISP  \\\n",
       "0             30          32           6          24  ...   5727.0   598.0   \n",
       "1             24          22          11          15  ...   5103.0  1322.0   \n",
       "2            106          68          32          80  ...  19470.0  3298.0   \n",
       "3             49          32           9          27  ...   6599.0   628.0   \n",
       "4             78          36          18          57  ...  13895.0   738.0   \n",
       "...          ...         ...         ...         ...  ...      ...     ...   \n",
       "1326          84          13           2          35  ...   7232.0   767.0   \n",
       "1327          82          18           8          49  ...   6890.0   576.0   \n",
       "1328          15           4           1           9  ...   1499.0   108.0   \n",
       "1329          58          17           5          18  ...   4568.0   322.0   \n",
       "1330           0           0           0           0  ...      6.0     1.0   \n",
       "\n",
       "      NH_WHITE  NH_BLACK  NH_AMIN  NH_ASIAN  NH_NHPI  NH_OTHER  NH_2MORE  SEN  \n",
       "0       3337.0     526.0     68.0     658.0     58.0      36.0     446.0   23  \n",
       "1       2665.0     453.0     40.0     281.0     51.0      15.0     276.0   22  \n",
       "2      11221.0    1884.0    148.0    1086.0    234.0      88.0    1511.0   22  \n",
       "3       4775.0     230.0     33.0     430.0     23.0      53.0     427.0   23  \n",
       "4      11262.0     257.0     42.0     521.0     14.0      71.0     990.0   23  \n",
       "...        ...       ...      ...       ...      ...       ...       ...  ...  \n",
       "1326    5362.0      89.0     24.0     494.0     12.0      34.0     450.0   13  \n",
       "1327    5584.0      28.0     24.0     231.0     25.0      33.0     389.0   13  \n",
       "1328    1236.0       2.0     10.0      35.0      3.0       9.0      96.0   13  \n",
       "1329    3911.0      10.0     20.0      31.0      2.0      20.0     252.0   12  \n",
       "1330       3.0       0.0      0.0       0.0      0.0       0.0       2.0   16  \n",
       "\n",
       "[1331 rows x 40 columns]"
      ]
     },
     "execution_count": 96,
     "metadata": {},
     "output_type": "execute_result"
    }
   ],
   "source": [
    "final_election_df"
   ]
  },
  {
   "cell_type": "code",
   "execution_count": 143,
   "id": "87a13d9b",
   "metadata": {},
   "outputs": [
    {
     "data": {
      "text/plain": [
       "['STATE',\n",
       " 'COUNTY',\n",
       " 'PRECINCT',\n",
       " 'NAME',\n",
       " 'G20PRED',\n",
       " 'G20PRER',\n",
       " 'G20USSD',\n",
       " 'G20USSR',\n",
       " 'geometry',\n",
       " 'TOTPOP',\n",
       " 'HISP',\n",
       " 'NH_WHITE',\n",
       " 'NH_BLACK',\n",
       " 'NH_AMIN',\n",
       " 'NH_ASIAN',\n",
       " 'NH_NHPI',\n",
       " 'NH_OTHER',\n",
       " 'NH_2MORE',\n",
       " 'SEN']"
      ]
     },
     "execution_count": 143,
     "metadata": {},
     "output_type": "execute_result"
    }
   ],
   "source": [
    "final_election_df = repaired_election_df.drop(columns=['G20PRELJOR', 'G20PREGHAW', 'G20PREPHUN', 'G20PREOWRI',\n",
    "                          'G20USSLDYE', 'G20USSGTAH', 'G20USSOWRI', 'G20ATGDROS',\n",
    "                          'G20ATGRCRO', 'G20ATGLHED', 'G20ATGOWRI', 'G20SOSDFAG',\n",
    "                          'G20SOSRTHA', 'G20SOSLMAR', 'G20SOSGPAR', 'G20SOSOWRI',\n",
    "                          'G20TREDREA', 'G20TRERGUD', 'G20TREIHEN', 'G20TRECMAR',\n",
    "                          'G20TREOWRI'])\n",
    "list(final_election_df.columns)"
   ]
  },
  {
   "cell_type": "code",
   "execution_count": 144,
   "id": "48327810",
   "metadata": {},
   "outputs": [
    {
     "data": {
      "text/plain": [
       "<Axes: >"
      ]
     },
     "execution_count": 144,
     "metadata": {},
     "output_type": "execute_result"
    },
    {
     "data": {
      "image/png": "[encoded data removed]",
      "text/plain": [
       "<Figure size 640x480 with 1 Axes>"
      ]
     },
     "metadata": {},
     "output_type": "display_data"
    }
   ],
   "source": [
    "final_election_df.plot()"
   ]
  },
  {
   "cell_type": "code",
   "execution_count": 145,
   "id": "3d35ece9",
   "metadata": {},
   "outputs": [
    {
     "name": "stdout",
     "output_type": "stream",
     "text": [
      "[141787.0, 144720.0, 143318.0, 144688.0, 142274.0, 140832.0, 135320.0, 142521.0, 142840.0, 143012.0, 142206.0, 139335.0, 131888.0, 145118.0, 138582.0, 144478.0, 127685.0, 154053.0, 140263.0, 140569.0, 139214.0, 149627.0, 139841.0, 145801.0, 135528.0, 140891.0, 133178.0, 138061.0, 141450.0, 148144.0]\n"
     ]
    }
   ],
   "source": [
    "pop_vals = [final_election_df.loc[final_election_df['SEN'] == n, 'TOTPOP'].sum() for n in range(1, 31)]\n",
    "print(pop_vals)"
   ]
  },
  {
   "cell_type": "code",
   "execution_count": 146,
   "id": "3187d2d4",
   "metadata": {},
   "outputs": [],
   "source": [
    "final_election_df.to_file(\"./OR/OR_1.shp\")\n",
    "shp_file = gpd.read_file('./OR/OR_1.shp')\n",
    "shp_file.to_file('./OR/OR_1.json', driver='GeoJSON')"
   ]
  },
  {
   "cell_type": "markdown",
   "id": "b4b06c90",
   "metadata": {},
   "source": [
    "# Working Chain"
   ]
  },
  {
   "cell_type": "code",
   "execution_count": 135,
   "id": "6f41ecd0",
   "metadata": {},
   "outputs": [
    {
     "data": {
      "text/plain": [
       "<module 'MAUP' from '/Users/kenny/PycharmProjects/lab-4-maup-and-data-dongKenny/MAUP.py'>"
      ]
     },
     "execution_count": 135,
     "metadata": {},
     "output_type": "execute_result"
    }
   ],
   "source": [
    "import MAUP as mp\n",
    "from importlib import reload\n",
    "reload(mp)"
   ]
  },
  {
   "cell_type": "code",
   "execution_count": 147,
   "id": "d895f2ae",
   "metadata": {},
   "outputs": [
    {
     "name": "stderr",
     "output_type": "stream",
     "text": [
      "/Users/kenny/anaconda3/envs/gerry/lib/python3.11/site-packages/gerrychain/graph/graph.py:311: UserWarning: NA values found in column TOTPOP!\n",
      "  warnings.warn(\"NA values found in column {}!\".format(column))\n",
      "/Users/kenny/anaconda3/envs/gerry/lib/python3.11/site-packages/gerrychain/graph/graph.py:311: UserWarning: NA values found in column HISP!\n",
      "  warnings.warn(\"NA values found in column {}!\".format(column))\n",
      "/Users/kenny/anaconda3/envs/gerry/lib/python3.11/site-packages/gerrychain/graph/graph.py:311: UserWarning: NA values found in column NH_WHITE!\n",
      "  warnings.warn(\"NA values found in column {}!\".format(column))\n",
      "/Users/kenny/anaconda3/envs/gerry/lib/python3.11/site-packages/gerrychain/graph/graph.py:311: UserWarning: NA values found in column NH_BLACK!\n",
      "  warnings.warn(\"NA values found in column {}!\".format(column))\n",
      "/Users/kenny/anaconda3/envs/gerry/lib/python3.11/site-packages/gerrychain/graph/graph.py:311: UserWarning: NA values found in column NH_AMIN!\n",
      "  warnings.warn(\"NA values found in column {}!\".format(column))\n",
      "/Users/kenny/anaconda3/envs/gerry/lib/python3.11/site-packages/gerrychain/graph/graph.py:311: UserWarning: NA values found in column NH_ASIAN!\n",
      "  warnings.warn(\"NA values found in column {}!\".format(column))\n",
      "/Users/kenny/anaconda3/envs/gerry/lib/python3.11/site-packages/gerrychain/graph/graph.py:311: UserWarning: NA values found in column NH_NHPI!\n",
      "  warnings.warn(\"NA values found in column {}!\".format(column))\n",
      "/Users/kenny/anaconda3/envs/gerry/lib/python3.11/site-packages/gerrychain/graph/graph.py:311: UserWarning: NA values found in column NH_OTHER!\n",
      "  warnings.warn(\"NA values found in column {}!\".format(column))\n",
      "/Users/kenny/anaconda3/envs/gerry/lib/python3.11/site-packages/gerrychain/graph/graph.py:311: UserWarning: NA values found in column NH_2MORE!\n",
      "  warnings.warn(\"NA values found in column {}!\".format(column))\n",
      "/Users/kenny/anaconda3/envs/gerry/lib/python3.11/site-packages/gerrychain/updaters/tally.py:100: UserWarning: ignoring nan encountered at node '761' for attribute 'population' with fields ['TOTPOP']\n",
      "  warnings.warn(\n",
      "100%|████████████████████████████████████████████████████████████████████████████████████████████████████████████████████████████████████████| 100/100 [00:02<00:00, 36.06it/s]\n"
     ]
    },
    {
     "name": "stdout",
     "output_type": "stream",
     "text": [
      "The time of execution of above program is: 0.44633126656214395 mins\n"
     ]
    },
    {
     "data": {
      "image/png": "[encoded data removed]",
      "text/plain": [
       "<Figure size 640x480 with 1 Axes>"
      ]
     },
     "metadata": {},
     "output_type": "display_data"
    },
    {
     "data": {
      "image/png": "[encoded data removed]",
      "text/plain": [
       "<Figure size 640x480 with 1 Axes>"
      ]
     },
     "metadata": {},
     "output_type": "display_data"
    }
   ],
   "source": [
    "start_time = time.time()\n",
    "\n",
    "or_graph = Graph.from_file('./OR/OR_1.json')\n",
    "\n",
    "initial_partition = Partition(\n",
    "    or_graph,\n",
    "    assignment='SEN',\n",
    "    updaters=mp.create_updaters()\n",
    ")\n",
    "\n",
    "chain = mp.create_chain(initial_partition, 0.1, total_steps_in_run=100)\n",
    "\n",
    "cut_edge_ensemble, dem_ensemble = mp.walk(chain)\n",
    "\n",
    "mp.create_hist(cut_edge_ensemble, 'Cut Edges')\n",
    "mp.create_hist(dem_ensemble, 'Democratic-Won Districts')\n",
    "\n",
    "end_time = time.time()\n",
    "print(f\"The time of execution of above program is: {(end_time - start_time) / 60} mins\")"
   ]
  },
  {
   "cell_type": "code",
   "execution_count": null,
   "id": "19ff242c",
   "metadata": {},
   "outputs": [],
   "source": []
  }
 ],
 "metadata": {
  "kernelspec": {
   "display_name": "gerry",
   "language": "python",
   "name": "gerry"
  },
  "language_info": {
   "codemirror_mode": {
    "name": "ipython",
    "version": 3
   },
   "file_extension": ".py",
   "mimetype": "text/x-python",
   "name": "python",
   "nbconvert_exporter": "python",
   "pygments_lexer": "ipython3",
   "version": "3.11.5"
  }
 },
 "nbformat": 4,
 "nbformat_minor": 5
}
